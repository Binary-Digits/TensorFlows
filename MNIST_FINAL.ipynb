{
  "nbformat": 4,
  "nbformat_minor": 0,
  "metadata": {
    "colab": {
      "name": "MNIST_FINAL.ipynb",
      "provenance": [],
      "collapsed_sections": [],
      "toc_visible": true,
      "authorship_tag": "ABX9TyMwP/yIT+U5iHnMTMltibqz",
      "include_colab_link": true
    },
    "kernelspec": {
      "name": "python3",
      "display_name": "Python 3"
    },
    "language_info": {
      "name": "python"
    }
  },
  "cells": [
    {
      "cell_type": "markdown",
      "metadata": {
        "id": "view-in-github",
        "colab_type": "text"
      },
      "source": [
        "<a href=\"https://colab.research.google.com/github/Binary-Digits/TensorFlows/blob/main/MNIST_FINAL.ipynb\" target=\"_parent\"><img src=\"https://colab.research.google.com/assets/colab-badge.svg\" alt=\"Open In Colab\"/></a>"
      ]
    },
    {
      "cell_type": "markdown",
      "source": [
        "# **Data Acquisition**"
      ],
      "metadata": {
        "id": "2esvvs0xhy3E"
      }
    },
    {
      "cell_type": "markdown",
      "source": [
        "**Importing Modules**"
      ],
      "metadata": {
        "id": "1PDjvp60g_lw"
      }
    },
    {
      "cell_type": "code",
      "execution_count": 1,
      "metadata": {
        "id": "toll0IvMtzBE"
      },
      "outputs": [],
      "source": [
        "import os\n",
        "import tensorflow as tf\n",
        "from tensorflow import keras\n",
        "from tensorflow.keras import layers, optimizers, datasets\n",
        "from matplotlib import pyplot as plt\n",
        "import numpy as np\n"
      ]
    },
    {
      "cell_type": "code",
      "source": [
        "# loading data sets\n",
        "(train_images, train_labels), (test_images, test_labels) = datasets.mnist.load_data()"
      ],
      "metadata": {
        "id": "1pl3hJKGuLXV"
      },
      "execution_count": 2,
      "outputs": []
    },
    {
      "cell_type": "code",
      "source": [
        "print(train_labels[0])"
      ],
      "metadata": {
        "colab": {
          "base_uri": "https://localhost:8080/"
        },
        "id": "BgEtPxqTux5H",
        "outputId": "8fc5cf4f-1319-4755-ca95-7089271137bc"
      },
      "execution_count": 3,
      "outputs": [
        {
          "output_type": "stream",
          "name": "stdout",
          "text": [
            "5\n"
          ]
        }
      ]
    },
    {
      "cell_type": "code",
      "source": [
        "print(train_images.shape, train_labels.shape)\n",
        "print(test_images.shape, test_labels.shape)"
      ],
      "metadata": {
        "colab": {
          "base_uri": "https://localhost:8080/"
        },
        "id": "018ufPDdu13R",
        "outputId": "2768f6d7-2744-4db7-fedc-70ca2e3a228f"
      },
      "execution_count": 4,
      "outputs": [
        {
          "output_type": "stream",
          "name": "stdout",
          "text": [
            "(60000, 28, 28) (60000,)\n",
            "(10000, 28, 28) (10000,)\n"
          ]
        }
      ]
    },
    {
      "cell_type": "markdown",
      "source": [
        "# **Data Preprocessing and Visualization**"
      ],
      "metadata": {
        "id": "tshjLqf7hYUp"
      }
    },
    {
      "cell_type": "code",
      "source": [
        "# convert labels to one-hot codes\n",
        "num_classes = 10\n",
        "train_labels = keras.utils.to_categorical(train_labels, num_classes)\n",
        "test_labels = keras.utils.to_categorical(test_labels, num_classes)\n",
        "\n",
        "print(train_labels[0])\n",
        "print(train_labels.shape)"
      ],
      "metadata": {
        "colab": {
          "base_uri": "https://localhost:8080/"
        },
        "id": "s1aYtSohvFP4",
        "outputId": "fc207fe1-8330-49af-8b14-843652c18496"
      },
      "execution_count": 5,
      "outputs": [
        {
          "output_type": "stream",
          "name": "stdout",
          "text": [
            "[0. 0. 0. 0. 0. 1. 0. 0. 0. 0.]\n",
            "(60000, 10)\n"
          ]
        }
      ]
    },
    {
      "cell_type": "markdown",
      "source": [
        "Data Visualization"
      ],
      "metadata": {
        "id": "JrDYhA8Ni4CV"
      }
    },
    {
      "cell_type": "code",
      "source": [
        "\n",
        "plt.figure()\n",
        "for i in range(9):\n",
        "  plt.subplot(3, 3, i+1)\n",
        "  plt.imshow(test_images[i])\n",
        "  plt.axis('off')\n",
        "plt.show()\n"
      ],
      "metadata": {
        "colab": {
          "base_uri": "https://localhost:8080/",
          "height": 248
        },
        "id": "95sx01erv2ZZ",
        "outputId": "cba88ae7-0db4-4a52-fda4-6509800e3f1b"
      },
      "execution_count": 6,
      "outputs": [
        {
          "output_type": "display_data",
          "data": {
            "image/png": "[encoded data removed]",
            "text/plain": [
              "<Figure size 432x288 with 9 Axes>"
            ]
          },
          "metadata": {
            "needs_background": "light"
          }
        }
      ]
    },
    {
      "cell_type": "markdown",
      "source": [
        "Data Preprocessing"
      ],
      "metadata": {
        "id": "KN_NCXBsizjP"
      }
    },
    {
      "cell_type": "code",
      "source": [
        "# convert 28 x 28 image to 784 x 1 vector\n",
        "train_images = train_images.reshape(60000, 784)\n",
        "test_images = test_images.reshape(10000, 784)\n",
        "\n",
        "train_images.shape\n",
        "test_images.shape\n",
        "\n",
        "train_images"
      ],
      "metadata": {
        "colab": {
          "base_uri": "https://localhost:8080/"
        },
        "id": "_IAWoknYxdT3",
        "outputId": "399d2211-a9a7-4f54-86e9-a9a37539bc43"
      },
      "execution_count": 7,
      "outputs": [
        {
          "output_type": "execute_result",
          "data": {
            "text/plain": [
              "array([[0, 0, 0, ..., 0, 0, 0],\n",
              "       [0, 0, 0, ..., 0, 0, 0],\n",
              "       [0, 0, 0, ..., 0, 0, 0],\n",
              "       ...,\n",
              "       [0, 0, 0, ..., 0, 0, 0],\n",
              "       [0, 0, 0, ..., 0, 0, 0],\n",
              "       [0, 0, 0, ..., 0, 0, 0]], dtype=uint8)"
            ]
          },
          "metadata": {},
          "execution_count": 7
        }
      ]
    },
    {
      "cell_type": "code",
      "source": [
        "# normalize image pixel values\n",
        "train_images = train_images.astype('float32')/255\n",
        "test_images = test_images.astype('float32')/255\n",
        "\n",
        "train_images"
      ],
      "metadata": {
        "colab": {
          "base_uri": "https://localhost:8080/"
        },
        "id": "5o6OXuy6yGJB",
        "outputId": "771fdd21-79d8-4dd4-89e3-9c1cfb6b3504"
      },
      "execution_count": 8,
      "outputs": [
        {
          "output_type": "execute_result",
          "data": {
            "text/plain": [
              "array([[0., 0., 0., ..., 0., 0., 0.],\n",
              "       [0., 0., 0., ..., 0., 0., 0.],\n",
              "       [0., 0., 0., ..., 0., 0., 0.],\n",
              "       ...,\n",
              "       [0., 0., 0., ..., 0., 0., 0.],\n",
              "       [0., 0., 0., ..., 0., 0., 0.],\n",
              "       [0., 0., 0., ..., 0., 0., 0.]], dtype=float32)"
            ]
          },
          "metadata": {},
          "execution_count": 8
        }
      ]
    },
    {
      "cell_type": "markdown",
      "source": [
        "# **Model Construction**\n"
      ],
      "metadata": {
        "id": "GqiP5hwrjBJg"
      }
    },
    {
      "cell_type": "markdown",
      "source": [
        "Building a CNN Model"
      ],
      "metadata": {
        "id": "XwfSxedbjLMO"
      }
    },
    {
      "cell_type": "code",
      "source": [
        "# CNN Construction\n",
        "\n",
        "model = keras.Sequential()\n",
        "# 1st convolutional layer\n",
        "model.add(layers.Conv2D(filters=32, kernel_size=5, strides=(1, 1),\n",
        "                        input_shape=(28, 28, 1), activation='relu'))\n",
        "model.add(layers.MaxPool2D(pool_size=(2, 2), strides=(2, 2)))\n",
        "# 2nd convolutional layer\n",
        "model.add(layers.Conv2D(filters=64, kernel_size= 3, strides=(1, 1),\n",
        "                        activation='relu'))\n",
        "model.add(layers.MaxPool2D(pool_size=(2, 2), strides=(2, 2)))\n",
        "\n",
        "# add drop out layer\n",
        "model.add(layers.Dropout(0.25))\n",
        "model.add(layers.Flatten())\n",
        "\n",
        "# add two fully connected layers\n",
        "model.add(layers.Dense(units=128, activation='relu'))\n",
        "model.add(layers.Dropout(0.5))\n",
        "model.add(layers.Dense(units=10, activation='softmax'))\n",
        "\n",
        "model.summary()\n",
        "\n"
      ],
      "metadata": {
        "colab": {
          "base_uri": "https://localhost:8080/"
        },
        "id": "LL1SIVTUzXJb",
        "outputId": "5467558c-10c1-4e68-b850-ce81424677e5"
      },
      "execution_count": 9,
      "outputs": [
        {
          "output_type": "stream",
          "name": "stdout",
          "text": [
            "Model: \"sequential\"\n",
            "_________________________________________________________________\n",
            " Layer (type)                Output Shape              Param #   \n",
            "=================================================================\n",
            " conv2d (Conv2D)             (None, 24, 24, 32)        832       \n",
            "                                                                 \n",
            " max_pooling2d (MaxPooling2D  (None, 12, 12, 32)       0         \n",
            " )                                                               \n",
            "                                                                 \n",
            " conv2d_1 (Conv2D)           (None, 10, 10, 64)        18496     \n",
            "                                                                 \n",
            " max_pooling2d_1 (MaxPooling  (None, 5, 5, 64)         0         \n",
            " 2D)                                                             \n",
            "                                                                 \n",
            " dropout (Dropout)           (None, 5, 5, 64)          0         \n",
            "                                                                 \n",
            " flatten (Flatten)           (None, 1600)              0         \n",
            "                                                                 \n",
            " dense (Dense)               (None, 128)               204928    \n",
            "                                                                 \n",
            " dropout_1 (Dropout)         (None, 128)               0         \n",
            "                                                                 \n",
            " dense_1 (Dense)             (None, 10)                1290      \n",
            "                                                                 \n",
            "=================================================================\n",
            "Total params: 225,546\n",
            "Trainable params: 225,546\n",
            "Non-trainable params: 0\n",
            "_________________________________________________________________\n"
          ]
        }
      ]
    },
    {
      "cell_type": "markdown",
      "source": [
        "Compiling and Training the Model"
      ],
      "metadata": {
        "id": "GcGB5DOtjOL1"
      }
    },
    {
      "cell_type": "code",
      "source": [
        "train_images = train_images.reshape(60000, 28, 28, 1)\n",
        "test_images = test_images.reshape(10000, 28, 28, 1)\n",
        "\n",
        "# compile the model\n",
        "model.compile(optimizer='adam', loss='categorical_crossentropy', \n",
        "              metrics=['accuracy'])\n",
        "# train the model\n",
        "model.fit(train_images, train_labels, epochs=5, batch_size=128)"
      ],
      "metadata": {
        "colab": {
          "base_uri": "https://localhost:8080/"
        },
        "id": "KotdD8uP1lwP",
        "outputId": "25b9442c-dd7d-4fd3-edb6-e29d10b97635"
      },
      "execution_count": 10,
      "outputs": [
        {
          "output_type": "stream",
          "name": "stdout",
          "text": [
            "Epoch 1/5\n",
            "469/469 [==============================] - 55s 117ms/step - loss: 0.2998 - accuracy: 0.9068\n",
            "Epoch 2/5\n",
            "469/469 [==============================] - 48s 101ms/step - loss: 0.0975 - accuracy: 0.9704\n",
            "Epoch 3/5\n",
            "469/469 [==============================] - 49s 104ms/step - loss: 0.0707 - accuracy: 0.9792\n",
            "Epoch 4/5\n",
            "469/469 [==============================] - 48s 103ms/step - loss: 0.0583 - accuracy: 0.9827\n",
            "Epoch 5/5\n",
            "469/469 [==============================] - 50s 106ms/step - loss: 0.0502 - accuracy: 0.9850\n"
          ]
        },
        {
          "output_type": "execute_result",
          "data": {
            "text/plain": [
              "<keras.callbacks.History at 0x7f09bde7ad90>"
            ]
          },
          "metadata": {},
          "execution_count": 10
        }
      ]
    },
    {
      "cell_type": "markdown",
      "source": [
        "Evaluating the model"
      ],
      "metadata": {
        "id": "yUeXZ_RUjgJK"
      }
    },
    {
      "cell_type": "code",
      "source": [
        "test_loss, test_acc = model.evaluate(test_images, test_labels)\n",
        "print(\"Test Accuracy is  %.2f\"%test_acc)"
      ],
      "metadata": {
        "colab": {
          "base_uri": "https://localhost:8080/"
        },
        "id": "gWKA0L8h10kC",
        "outputId": "04ebc6c7-a0c0-4f36-9b52-27958e74b07e"
      },
      "execution_count": 11,
      "outputs": [
        {
          "output_type": "stream",
          "name": "stdout",
          "text": [
            "313/313 [==============================] - 5s 15ms/step - loss: 0.0247 - accuracy: 0.9911\n",
            "Test Accuracy is  0.99\n"
          ]
        }
      ]
    },
    {
      "cell_type": "markdown",
      "source": [
        "Saving the Model"
      ],
      "metadata": {
        "id": "gXUqTVPRjipG"
      }
    },
    {
      "cell_type": "code",
      "source": [
        "model.save(\"./model/final_CNN_model.h5\")"
      ],
      "metadata": {
        "id": "xViqZGDC4kYr"
      },
      "execution_count": 12,
      "outputs": []
    },
    {
      "cell_type": "markdown",
      "source": [
        "# **Prediction Result Visualization**"
      ],
      "metadata": {
        "id": "YhVCcnEkjpiT"
      }
    },
    {
      "cell_type": "markdown",
      "source": [
        "Loading the CNN Model"
      ],
      "metadata": {
        "id": "4KHSIWUuj31I"
      }
    },
    {
      "cell_type": "code",
      "source": [
        "from tensorflow.keras.models import load_model\n",
        "new_model = load_model(\"./model/final_CNN_Model.h5\") #\"use_your_path/final_CNN_Model.h5\"\n",
        "\n",
        "new_model.summary()"
      ],
      "metadata": {
        "colab": {
          "base_uri": "https://localhost:8080/"
        },
        "id": "PU_OMei751ur",
        "outputId": "8b895169-402c-4770-c570-c7e4ccb64250"
      },
      "execution_count": 14,
      "outputs": [
        {
          "output_type": "stream",
          "name": "stdout",
          "text": [
            "Model: \"sequential\"\n",
            "_________________________________________________________________\n",
            " Layer (type)                Output Shape              Param #   \n",
            "=================================================================\n",
            " conv2d (Conv2D)             (None, 24, 24, 32)        832       \n",
            "                                                                 \n",
            " max_pooling2d (MaxPooling2D  (None, 12, 12, 32)       0         \n",
            " )                                                               \n",
            "                                                                 \n",
            " conv2d_1 (Conv2D)           (None, 10, 10, 64)        18496     \n",
            "                                                                 \n",
            " max_pooling2d_1 (MaxPooling  (None, 5, 5, 64)         0         \n",
            " 2D)                                                             \n",
            "                                                                 \n",
            " dropout (Dropout)           (None, 5, 5, 64)          0         \n",
            "                                                                 \n",
            " flatten (Flatten)           (None, 1600)              0         \n",
            "                                                                 \n",
            " dense (Dense)               (None, 128)               204928    \n",
            "                                                                 \n",
            " dropout_1 (Dropout)         (None, 128)               0         \n",
            "                                                                 \n",
            " dense_1 (Dense)             (None, 10)                1290      \n",
            "                                                                 \n",
            "=================================================================\n",
            "Total params: 225,546\n",
            "Trainable params: 225,546\n",
            "Non-trainable params: 0\n",
            "_________________________________________________________________\n"
          ]
        }
      ]
    },
    {
      "cell_type": "markdown",
      "source": [
        "Visualize prediction results"
      ],
      "metadata": {
        "id": "YhKeSxQ0j9EH"
      }
    },
    {
      "cell_type": "code",
      "source": [
        "# visualize prediction results\n",
        "import matplotlib.pyplot as plt\n",
        "\n",
        "def res_Visual(n):\n",
        "  final_opt_a = model.predict(test_images[0:n]) # perform predictions on the test tests by using the model\n",
        "  fig, ax = plt.subplots(nrows=int(n/5), ncols=5)\n",
        "  ax = ax.flatten()\n",
        "  print('prediction results of the first {} images:'.format(n))\n",
        "  for i in range(n):\n",
        "    print(final_opt_a[i], end=',')\n",
        "    if int((i + 1) % 5) == 0:\n",
        "      print(\"\\t\")\n",
        "\n",
        "    #visualize image display\n",
        "    img = test_images[i].reshape((28, 28)) #read each row of data in the format of Ndarry\n",
        "    plt.axis('off')\n",
        "    ax[i].imshow(img, cmap='Greys', interpolation='nearest') #visualization\n",
        "    ax[i].axis(\"off\")\n",
        "  print(\"first {} images in the test set\".format(n))  \n",
        "res_Visual(20)"
      ],
      "metadata": {
        "colab": {
          "base_uri": "https://localhost:8080/",
          "height": 737
        },
        "id": "KovaY_gDBfmd",
        "outputId": "e6b990d9-5e04-428a-8cc2-e3d437161edc"
      },
      "execution_count": 19,
      "outputs": [
        {
          "output_type": "stream",
          "name": "stdout",
          "text": [
            "prediction results of the first 20 images:\n",
            "[1.2490685e-09 1.9438705e-10 4.1487058e-07 1.4178889e-07 4.9533846e-11\n",
            " 2.5933033e-11 5.9110052e-14 9.9999809e-01 3.2941333e-10 1.3990045e-06],[1.8358693e-07 7.6803699e-05 9.9992239e-01 1.3679723e-09 9.7239434e-09\n",
            " 4.3774397e-11 3.1320189e-07 1.6749688e-09 2.3660257e-07 8.9441933e-11],[2.6506381e-08 9.9997771e-01 6.1672489e-07 5.4887156e-08 1.2786390e-05\n",
            " 4.4906903e-07 9.6932513e-07 6.5968384e-06 4.2593257e-07 3.3454637e-07],[9.9994886e-01 1.0005229e-08 5.1535643e-08 8.5052836e-09 3.7715719e-08\n",
            " 1.6444661e-08 4.7937679e-05 9.3023992e-08 4.3323777e-07 2.5401559e-06],[1.5627080e-08 2.6013211e-07 4.2913918e-08 3.0169019e-08 9.9947923e-01\n",
            " 8.3746990e-08 3.2178937e-07 2.0742567e-07 1.2144163e-07 5.1968038e-04],\t\n",
            "[1.8791628e-09 9.9999630e-01 3.3237495e-08 1.1518839e-09 2.2997949e-06\n",
            " 5.1468709e-09 5.0453895e-08 1.1697407e-06 3.5260474e-08 5.6259516e-08],[2.6655973e-09 4.8813449e-06 7.6014963e-08 1.1988744e-08 9.9907184e-01\n",
            " 8.4575447e-07 3.8382188e-07 2.9342571e-06 4.8756803e-04 4.3143294e-04],[1.5264535e-08 9.0525321e-09 6.5713272e-07 7.4587092e-06 8.9886587e-04\n",
            " 5.7599158e-05 2.3807839e-08 5.0673680e-07 2.5816084e-05 9.9900901e-01],[1.9185161e-06 2.2387423e-09 4.1027326e-10 4.8442011e-08 1.0702170e-06\n",
            " 9.7242469e-01 2.6247203e-02 4.7084470e-10 1.3031343e-03 2.1965177e-05],[1.3829808e-08 1.2882528e-10 1.2619281e-08 9.6604913e-07 9.1221969e-05\n",
            " 8.5483499e-08 2.7554500e-10 7.3761235e-05 1.9202631e-05 9.9981481e-01],\t\n",
            "[9.9999964e-01 5.9455135e-10 2.9347921e-08 2.6014335e-10 2.7881267e-10\n",
            " 3.2957537e-10 1.0228550e-08 1.3634418e-08 1.8131635e-08 3.9289634e-07],[5.4926468e-06 2.5044324e-12 7.1593413e-12 4.4111962e-12 1.5642646e-09\n",
            " 3.6709580e-09 9.9999452e-01 1.4876816e-15 1.9905061e-08 1.2590681e-11],[2.28153829e-09 9.31445459e-12 3.10189874e-10 1.13010486e-07\n",
            " 5.03067786e-05 5.23283497e-08 3.34060252e-10 2.14744986e-07\n",
            " 4.13608859e-06 9.99945164e-01],[9.9999940e-01 1.1334922e-10 5.6563920e-10 1.5475982e-11 1.1561643e-09\n",
            " 3.4682843e-10 7.3599061e-08 1.6307773e-08 1.7482977e-08 4.8200030e-07],[1.3480995e-09 9.9999821e-01 4.0564746e-08 3.8791477e-08 1.4043235e-06\n",
            " 7.2895688e-08 2.4108330e-08 4.3503931e-08 1.4888627e-07 7.3092790e-09],\t\n",
            "[1.6894929e-10 2.9249142e-08 2.0955304e-09 1.2536331e-04 6.0341683e-11\n",
            " 9.9987447e-01 2.3490381e-08 2.8641045e-08 7.4432471e-08 1.1118377e-08],[1.0067698e-07 9.9325808e-12 2.9791791e-09 5.9083998e-08 1.4406852e-05\n",
            " 2.4405736e-08 5.0909937e-10 1.7581023e-06 2.3087262e-06 9.9998140e-01],[6.5778782e-09 1.1072902e-11 2.0722902e-07 1.9673730e-07 2.3171591e-11\n",
            " 7.5939498e-11 2.7314746e-14 9.9999833e-01 2.8536958e-11 1.2034531e-06],[1.0909205e-03 1.4401703e-06 3.9171905e-04 9.1629368e-01 4.9130489e-05\n",
            " 1.7179949e-02 2.7623872e-04 4.3138020e-06 6.3148044e-02 1.5647303e-03],[7.1953388e-11 1.9540306e-07 1.3105311e-07 8.9549754e-09 9.9999499e-01\n",
            " 1.9979165e-08 1.6125419e-09 4.9788832e-07 1.4691865e-08 4.1449935e-06],\t\n",
            "first 20 images in the test set\n"
          ]
        },
        {
          "output_type": "display_data",
          "data": {
            "image/png": "[encoded data removed]",
            "text/plain": [
              "<Figure size 432x288 with 20 Axes>"
            ]
          },
          "metadata": {
            "needs_background": "light"
          }
        }
      ]
    },
    {
      "cell_type": "code",
      "source": [
        ""
      ],
      "metadata": {
        "id": "n1VzHmjMemcu"
      },
      "execution_count": null,
      "outputs": []
    }
  ]
}